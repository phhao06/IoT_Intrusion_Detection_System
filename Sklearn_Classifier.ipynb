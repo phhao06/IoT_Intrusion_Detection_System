{
  "nbformat": 4,
  "nbformat_minor": 0,
  "metadata": {
    "colab": {
      "name": "Sklearn-Classifier.ipynb",
      "provenance": [],
      "collapsed_sections": [],
      "include_colab_link": true
    },
    "kernelspec": {
      "name": "python3",
      "display_name": "Python 3"
    }
  },
  "cells": [
    {
      "cell_type": "markdown",
      "metadata": {
        "id": "view-in-github",
        "colab_type": "text"
      },
      "source": [
        "<a href=\"https://colab.research.google.com/github/haopham6798/IoT_Intrusion_Detection_System/blob/main/Sklearn_Classifier.ipynb\" target=\"_parent\"><img src=\"https://colab.research.google.com/assets/colab-badge.svg\" alt=\"Open In Colab\"/></a>"
      ]
    },
    {
      "cell_type": "markdown",
      "metadata": {
        "id": "S1V3ojr5UtbW"
      },
      "source": [
        "Import các thư viện"
      ]
    },
    {
      "cell_type": "code",
      "metadata": {
        "id": "lS_VCY2CKSGt",
        "colab": {
          "base_uri": "https://localhost:8080/"
        },
        "outputId": "303e1b13-6f0d-4fa6-d89d-ab738cd736be"
      },
      "source": [
        "import sklearn\n",
        "from sklearn.ensemble import RandomForestClassifier\n",
        "from sklearn.naive_bayes import GaussianNB\n",
        "import numpy as np\n",
        "import pandas as pd\n",
        "from sklearn.metrics import accuracy_score\n",
        "from sklearn.tree import DecisionTreeClassifier\n",
        "from sklearn.metrics import confusion_matrix\n",
        "import joblib\n",
        "from sklearn import preprocessing\n",
        "from sklearn.pipeline import make_pipeline\n",
        "from sklearn.preprocessing import StandardScaler\n",
        "from sklearn.svm import SVC\n",
        "import re\n",
        "import csv\n",
        "import matplotlib.pyplot as plt \n",
        "import matplotlib.pyplot as plt\n",
        "from sklearn.metrics import plot_confusion_matrix\n",
        "from google.colab import drive\n",
        "drive.mount('/content/drive')"
      ],
      "execution_count": null,
      "outputs": [
        {
          "output_type": "stream",
          "name": "stdout",
          "text": [
            "Mounted at /content/drive\n"
          ]
        }
      ]
    },
    {
      "cell_type": "markdown",
      "metadata": {
        "id": "m-_e6cy9Uph2"
      },
      "source": [
        "Khai báo các hàm cần dùng"
      ]
    },
    {
      "cell_type": "code",
      "metadata": {
        "id": "fran809eO_QO"
      },
      "source": [
        "#dict chuyển label từ chuỗi sang số\n",
        "attack_category = {\n",
        "        'Normal': 0,\n",
        "        'Fuzzers': 1, \n",
        "        'Reconnaissance': 2, \n",
        "        'Shellcode': 3, \n",
        "        'Exploits': 4, \n",
        "        'Worms': 5, \n",
        "        'DoS': 6, \n",
        "        'Backdoor': 7, \n",
        "        'Analysis': 8, \n",
        "        'Generic': 9, \n",
        "  }\n",
        "\n",
        "#load tập dữ liệu\n",
        "def load_data(filepath):\n",
        "    try:\n",
        "        return pd.read_csv(filepath, delimiter=',',low_memory=False)\n",
        "    except:\n",
        "        print(\"File Not Found\")\n",
        "        return\n",
        "\n",
        "#tách nhãn\n",
        "# def split_label_trainset(dataset):\n",
        "#     #split label column\n",
        "#     l =len(dataset.columns) - 1\n",
        "#     label_list = dataset.iloc[:,-1]\n",
        "#     data_list = dataset.iloc[:,0:l]\n",
        "#     return data_list, label_list\n",
        "\n",
        "#split dataset to trainset and testset\n",
        "def train_test_splitor(data, per):\n",
        "    total_rows = data.shape[0]\n",
        "    random_id_list= np.random.permutation(total_rows)\n",
        "    train_idx = random_id_list[0:int(per*total_rows)]\n",
        "    test_idx = random_id_list[int(per*total_rows):-1]\n",
        "    train_data = data.iloc[train_idx,:]\n",
        "    test_data = data.iloc[test_idx,:]\n",
        "    return train_data, test_data\n",
        "\n",
        "#xóa các dòng giá trị NaN\n",
        "def drop_nan(df):\n",
        "    features = df.columns#.drop(\"label\")\n",
        "    for f in features:\n",
        "        df.loc[df[f] == '-', f] = np.nan\n",
        "    df.dropna(inplace=True)\n",
        "\n",
        "#xóa các dòng có thuộc tính trong tập dữ liệu được lưu dưới dạng hex\n",
        "def clear_hex_value(df,col):\n",
        "    cols = df[col].items()\n",
        "    for index, value in cols:\n",
        "        if isinstance(value, int):\n",
        "            pass\n",
        "        else:\n",
        "            r = int(str(value),0)\n",
        "            df = df.replace(to_replace=value, value=r)\n",
        "\n",
        "\n",
        "#chuyển thuộc tính state từ chuỗi sang số\n",
        "def encode_state(df):\n",
        "    le = preprocessing.LabelEncoder()\n",
        "    state_list = ['ECO', 'ECR', 'CON', 'INT', 'TST', 'MAS', 'no', 'PAR', 'RST', 'ACC', 'URN', 'FIN', 'URH', 'REQ', 'CLO', 'TXD',]\n",
        "    lenc = le.fit(state_list)\n",
        "    df[\"state\"] = le.fit_transform(df[\"state\"])\n",
        "\n",
        "#chuyển thuộc tính proto sang number theo 1 danh sách proto_num được đánh số trước  \n",
        "def get_number_proto():\n",
        "    file_proto_num = \"./drive/My Drive/dataset/proto_num.csv\"\n",
        "    #proto_num = load_data(file_proto_num)\n",
        "    f = csv.reader(open(file_proto_num, 'r'))\n",
        "    pro_num = dict()\n",
        "    for row in f:\n",
        "        if row[1] != \"\":\n",
        "            k = row[1].lower()\n",
        "            v = row[0]\n",
        "            pro_num[k] = v\n",
        "        else:\n",
        "            continue\n",
        "    del pro_num['keyword']\n",
        "    return pro_num\n",
        "\n",
        "\n",
        "\n",
        "#hàm phân tích tập dữ liệu\n",
        "def analyze(df, attack_category):\n",
        "  # att_netflow = df[df[\"attack_cat\"] >= 1]\n",
        "  print(\"The number of total records is: {}\".format(len(df)))\n",
        "  # print(\"The number of attacked records is: {}\".format(len(att_netflow)))\n",
        "  for key,value in attack_category.items():\n",
        "    temp = df[df['attack_cat'] == key ]\n",
        "    print(\"The number of {0} records is: {1}\".format(key, len(temp)))\n",
        "\n",
        "\n",
        "#hàm tính toán \n",
        "def cal_att_score(predictions, attack_category):\n",
        "  att_cate = dict()\n",
        "  for key,value in attack_category.items():\n",
        "    sum = 0\n",
        "    for pre in predictions:\n",
        "      if pre == value:\n",
        "        sum+=1\n",
        "    att_cate[key] =  sum\n",
        "  return att_cate\n"
      ],
      "execution_count": null,
      "outputs": []
    },
    {
      "cell_type": "code",
      "metadata": {
        "id": "e_wez0i8PVnn"
      },
      "source": [
        "#tất cả thuộc tính của tập dữ liệu UNSW-NB15(https://research.unsw.edu.au/projects/unsw-nb15-dataset)\n",
        "features = ['srcip', 'sport', 'dstip', 'dsport', 'proto', 'state', 'dur', 'sbytes', 'dbytes', 'sttl', 'dttl', 'sloss', 'dloss', 'service', 'sload', 'dload', 'spkts', 'dpkts', 'swin', 'dwin', 'stcpb', 'dtcpb', 'smeansz', 'dmeansz', 'trans_depth', 'res_bdy_len', 'sjit', 'djit', 'stime', 'ltime', 'sintpkt', 'dintpkt', 'tcprtt', \n",
        "'synack', 'ackdat', 'is_sm_ips_ports', 'ct_state_ttl', 'ct_flw_http_mthd', 'is_ftp_login', 'ct_ftp_cmd', 'ct_srv_src', 'ct_srv_dst', 'ct_dst_ltm', 'ct_src_ ltm', 'ct_src_dport_ltm', 'ct_dst_sport_ltm', 'ct_dst_src_ltm', 'attack_cat', 'label']\n",
        "\n",
        "#các thuộc tính argus sinh ra realtime\n",
        "argus_fields = [\n",
        "    \"sport\", \"dport\",\"dur\", \"proto\", \"state\", \"spkts\", \"dpkts\", \"sbytes\", \"dbytes\", \"sttl\", \"dttl\", \"sload\", \"dload\", \"sloss\", \"dloss\", \"sintpkt\", \"dintpkt\", \"sjit\", \"djit\", \"swin\", \"dwin\", \"stcpb\", \"dtcpb\", \"tcprtt\", \"synack\", \"ackdat\", \"smeansz\", \"dmeansz\",\"stime\", \"ltime\",\"attack_cat\",\"label\"\n",
        "]"
      ],
      "execution_count": null,
      "outputs": []
    },
    {
      "cell_type": "code",
      "metadata": {
        "id": "F3TAqYVOtYn2"
      },
      "source": [
        ""
      ],
      "execution_count": null,
      "outputs": []
    },
    {
      "cell_type": "code",
      "metadata": {
        "colab": {
          "base_uri": "https://localhost:8080/"
        },
        "id": "e_2sRXs5dSBJ",
        "outputId": "5d9be93c-514a-42f2-cdf6-eb914287bacd"
      },
      "source": [
        "print(len(features))\n",
        "print(len(argus_fields))"
      ],
      "execution_count": null,
      "outputs": [
        {
          "output_type": "stream",
          "name": "stdout",
          "text": [
            "49\n",
            "32\n"
          ]
        }
      ]
    },
    {
      "cell_type": "markdown",
      "metadata": {
        "id": "66Fw4atmUlX8"
      },
      "source": [
        "Load dữ liệu và xử lý dữ liệu"
      ]
    },
    {
      "cell_type": "code",
      "metadata": {
        "id": "YZnI_zc6SBcS",
        "colab": {
          "base_uri": "https://localhost:8080/"
        },
        "outputId": "2e49f91e-f4a7-4aa3-9a64-b120f18d5b95"
      },
      "source": [
        "path = \"./drive/My Drive/LVan/DIoT/\"\n",
        "filepath = path+ \"Dataset/UNSW/UNSW-train-multi-20-251220.csv\"\n",
        "proto_num = get_number_proto()\n",
        "dt = load_data(filepath)\n",
        "data = dt.replace({\"proto\": proto_num})\n",
        "encode_state(data)\n",
        "\n",
        "data = data.fillna(0)\n",
        "\n",
        "#giảm số thuộc tính cần lấy lại (20 thuộc tính)\n",
        "argus_fields_att = [\n",
        "    \"sport\", \"dport\",\"dur\", \"proto\", \"state\", \"spkts\", \"dpkts\", \"sbytes\", \"dbytes\", \"sttl\", \"dttl\", \"sload\", \"dload\", \"sloss\", \"dloss\", \"tcprtt\", \"synack\", \"ackdat\", \"smeansz\", \"dmeansz\",\"attack_cat\",\n",
        "]\n",
        "dataset =data[argus_fields_att]\n",
        "\n",
        "\n",
        "drop_nan(dataset)\n",
        "print(dataset.shape)\n",
        "dataset[\"proto\"]= pd.to_numeric(dataset[\"proto\"], downcast='float')\n",
        "dataset[\"sport\"]= pd.to_numeric(dataset[\"sport\"], downcast='float')\n",
        "dataset[\"dport\"]= pd.to_numeric(dataset[\"dport\"], downcast='float')\n",
        "#dataset.drop(dataset[dataset['attack_cat'] ==\"Normal\"].index, inplace = True)\n",
        "print(dataset.shape)\n"
      ],
      "execution_count": null,
      "outputs": [
        {
          "output_type": "stream",
          "name": "stderr",
          "text": [
            "/usr/local/lib/python3.7/dist-packages/pandas/core/indexing.py:1763: SettingWithCopyWarning: \n",
            "A value is trying to be set on a copy of a slice from a DataFrame.\n",
            "Try using .loc[row_indexer,col_indexer] = value instead\n",
            "\n",
            "See the caveats in the documentation: https://pandas.pydata.org/pandas-docs/stable/user_guide/indexing.html#returning-a-view-versus-a-copy\n",
            "  isetter(loc, value)\n",
            "/usr/local/lib/python3.7/dist-packages/ipykernel_launcher.py:46: SettingWithCopyWarning: \n",
            "A value is trying to be set on a copy of a slice from a DataFrame\n",
            "\n",
            "See the caveats in the documentation: https://pandas.pydata.org/pandas-docs/stable/user_guide/indexing.html#returning-a-view-versus-a-copy\n"
          ]
        },
        {
          "output_type": "stream",
          "name": "stdout",
          "text": [
            "(2539735, 21)\n"
          ]
        },
        {
          "output_type": "stream",
          "name": "stderr",
          "text": [
            "/usr/local/lib/python3.7/dist-packages/ipykernel_launcher.py:19: SettingWithCopyWarning: \n",
            "A value is trying to be set on a copy of a slice from a DataFrame.\n",
            "Try using .loc[row_indexer,col_indexer] = value instead\n",
            "\n",
            "See the caveats in the documentation: https://pandas.pydata.org/pandas-docs/stable/user_guide/indexing.html#returning-a-view-versus-a-copy\n",
            "/usr/local/lib/python3.7/dist-packages/ipykernel_launcher.py:20: SettingWithCopyWarning: \n",
            "A value is trying to be set on a copy of a slice from a DataFrame.\n",
            "Try using .loc[row_indexer,col_indexer] = value instead\n",
            "\n",
            "See the caveats in the documentation: https://pandas.pydata.org/pandas-docs/stable/user_guide/indexing.html#returning-a-view-versus-a-copy\n"
          ]
        },
        {
          "output_type": "stream",
          "name": "stdout",
          "text": [
            "(2539735, 21)\n"
          ]
        },
        {
          "output_type": "stream",
          "name": "stderr",
          "text": [
            "/usr/local/lib/python3.7/dist-packages/ipykernel_launcher.py:21: SettingWithCopyWarning: \n",
            "A value is trying to be set on a copy of a slice from a DataFrame.\n",
            "Try using .loc[row_indexer,col_indexer] = value instead\n",
            "\n",
            "See the caveats in the documentation: https://pandas.pydata.org/pandas-docs/stable/user_guide/indexing.html#returning-a-view-versus-a-copy\n"
          ]
        }
      ]
    },
    {
      "cell_type": "markdown",
      "metadata": {
        "id": "zf0ErgIjUhqv"
      },
      "source": [
        "Tách dữ liệu thành 2 tập train và test"
      ]
    },
    {
      "cell_type": "code",
      "metadata": {
        "id": "gYbgcMCYWoP3",
        "colab": {
          "base_uri": "https://localhost:8080/"
        },
        "outputId": "b24501fd-a90e-46fe-8d1a-b4ca91c2eb87"
      },
      "source": [
        "\n",
        "x_train , x_test = train_test_splitor(dataset, 0.8)\n",
        "\n",
        "print(\"Training set\")\n",
        "analyze(x_train, attack_category)\n",
        "print(\"=====================================\")\n",
        "print(\"\\nTesting set\")\n",
        "analyze(x_test,attack_category)\n",
        "\n",
        "y_train = x_train.pop(\"attack_cat\")\n",
        "x_train =  preprocessing.normalize(x_train)\n",
        "\n",
        "\n",
        "y_test = x_test.pop(\"attack_cat\")\n",
        "x_test =  preprocessing.normalize(x_test)\n",
        "# print(x_train.shape)\n",
        "# print(x_test.shape)\n",
        "\n",
        "# x_train = preprocessing.normalize(dftrain)\n",
        "\n",
        "\n"
      ],
      "execution_count": null,
      "outputs": [
        {
          "output_type": "stream",
          "name": "stdout",
          "text": [
            "Training set\n",
            "The number of total records is: 2031788\n",
            "The number of Normal records is: 1774848\n",
            "The number of Fuzzers records is: 19445\n",
            "The number of Reconnaissance records is: 11221\n",
            "The number of Shellcode records is: 1232\n",
            "The number of Exploits records is: 35618\n",
            "The number of Worms records is: 128\n",
            "The number of DoS records is: 13165\n",
            "The number of Backdoor records is: 1850\n",
            "The number of Analysis records is: 2138\n",
            "The number of Generic records is: 172143\n",
            "=====================================\n",
            "\n",
            "Testing set\n",
            "The number of total records is: 507946\n",
            "The number of Normal records is: 443604\n",
            "The number of Fuzzers records is: 4801\n",
            "The number of Reconnaissance records is: 2766\n",
            "The number of Shellcode records is: 279\n",
            "The number of Exploits records is: 8907\n",
            "The number of Worms records is: 46\n",
            "The number of DoS records is: 3188\n",
            "The number of Backdoor records is: 479\n",
            "The number of Analysis records is: 539\n",
            "The number of Generic records is: 43337\n"
          ]
        }
      ]
    },
    {
      "cell_type": "code",
      "metadata": {
        "id": "7Xw46pQP0fvJ"
      },
      "source": [
        "#train all dataset\n",
        "# analyze(dataset,attack_category )\n",
        "# y_train = dataset.pop(\"attack_cat\")\n",
        "# x_train =  preprocessing.normalize(dataset)"
      ],
      "execution_count": null,
      "outputs": []
    },
    {
      "cell_type": "markdown",
      "metadata": {
        "id": "Gvh6ahsSKccI"
      },
      "source": [
        "Huấn luyện mô hình phân loại"
      ]
    },
    {
      "cell_type": "code",
      "metadata": {
        "id": "leZ7NxKVYpTZ",
        "colab": {
          "base_uri": "https://localhost:8080/"
        },
        "outputId": "a3996f68-8d7f-40aa-a227-3888ab700519"
      },
      "source": [
        "print('The scikit-learn version is {}.'.format(sklearn.__version__))\n",
        "\n",
        "#Random Forest(https://scikit-learn.org/stable/modules/generated/sklearn.ensemble.RandomForestClassifier.html)\n",
        "#criterion=\"gini\" -> The function to measure the quality of a split (có 2 loại gini và entropy)\n",
        "#random_state=0 -> Controls both the randomness of the bootstrapping of the samples used when building trees (giá trị có thể là 1 số nguyên ngẫu nhiên)\n",
        "clf = RandomForestClassifier( criterion=\"gini\",random_state=42)\n",
        "\n",
        "\n",
        "#Decision Tree(https://scikit-learn.org/stable/modules/generated/sklearn.tree.DecisionTreeClassifier.html)\n",
        "#criterion=\"gini\" -> The function to measure the quality of a split (có 2 loại gini và entropy)\n",
        "#random_state=0 -> Controls both the randomness of the bootstrapping of the samples used when building trees (giá trị có thể là 1 số nguyên ngẫu nhiên)\n",
        "#splitter=\"best\" -> The strategy used to choose the split at each node. Supported strategies are “best” to choose the best split and “random” to choose the best random split\n",
        "#clf = DecisionTreeClassifier(criterion=\"gini\", splitter=\"best\", random_state=0)\n",
        "\n",
        "#Naive Bayes (https://scikit-learn.org/stable/modules/generated/sklearn.naive_bayes.GaussianNB.html)\n",
        "#các giá trị để theo default\n",
        "#clf = GaussianNB()\n",
        "\n",
        "clf.fit(x_train, y_train)\n",
        "\n",
        "\n",
        "#xuat mo hinh \n",
        "# filename = path + '/Model/2021-06-09-dec-clf.sav'\n",
        "# joblib.dump(clf, filename)"
      ],
      "execution_count": null,
      "outputs": [
        {
          "output_type": "stream",
          "name": "stdout",
          "text": [
            "The scikit-learn version is 0.22.2.post1.\n"
          ]
        },
        {
          "output_type": "execute_result",
          "data": {
            "text/plain": [
              "RandomForestClassifier(bootstrap=True, ccp_alpha=0.0, class_weight=None,\n",
              "                       criterion='gini', max_depth=None, max_features='auto',\n",
              "                       max_leaf_nodes=None, max_samples=None,\n",
              "                       min_impurity_decrease=0.0, min_impurity_split=None,\n",
              "                       min_samples_leaf=1, min_samples_split=2,\n",
              "                       min_weight_fraction_leaf=0.0, n_estimators=100,\n",
              "                       n_jobs=None, oob_score=False, random_state=42, verbose=0,\n",
              "                       warm_start=False)"
            ]
          },
          "metadata": {},
          "execution_count": 52
        }
      ]
    },
    {
      "cell_type": "markdown",
      "metadata": {
        "id": "DaFcXgf1KWnL"
      },
      "source": [
        "Tính độ chính xác của mô hình phân loại"
      ]
    },
    {
      "cell_type": "code",
      "metadata": {
        "colab": {
          "base_uri": "https://localhost:8080/"
        },
        "id": "oZfOSfr8q9oW",
        "outputId": "a8e4dbc5-4a0e-467a-bfca-3ae8612ad6b3"
      },
      "source": [
        "clf.score(x_test,y_test)\n",
        "# path = clf.decision_path(x_test)\n",
        "predictions = clf.predict(x_test)\n",
        "score = accuracy_score(y_test,predictions)\n",
        "conf = confusion_matrix(y_test, predictions)\n",
        "print(score)\n",
        "\n"
      ],
      "execution_count": null,
      "outputs": [
        {
          "output_type": "stream",
          "name": "stdout",
          "text": [
            "0.975788764947455\n"
          ]
        }
      ]
    },
    {
      "cell_type": "code",
      "metadata": {
        "id": "VfZCvALobvDN"
      },
      "source": [
        "# predictions = clf.predict(dftest)\n",
        "# score = accuracy_score(y_test,predictions)\n",
        "# conf = confusion_matrix(y_test, predictions)\n",
        "# conf_df = pd.DataFrame(conf, index=[0,1,2,3,4,5,6,7,8,9], columns=[0,1,2,3,4,5,6,7,8,9])\n",
        "# print(score)\n",
        "# diagonal = list()\n",
        "# for i in range(10):\n",
        "#   diagonal.append(conf_df.iloc[i][i])\n",
        "# print(diagonal)\n",
        "\n",
        "# print(conf)\n",
        "# att_score = cal_att_score(predictions, attack_category)\n",
        "# print(att_score)"
      ],
      "execution_count": null,
      "outputs": []
    },
    {
      "cell_type": "code",
      "metadata": {
        "id": "qlRtrdLzVCdS"
      },
      "source": [
        "# true_label = pd.Series(y_test).value_counts().sort_index()\n",
        "# # print(pre.value_counts().sort_index())\n",
        "# # print(true_label.value_counts().sort_index())\n",
        "# att_label = [ 'Normal','Fuzzers', 'Reconnaissance', 'Shellcode', 'Exploits', 'Worms', 'DoS', 'Backdoors', 'Analysis', 'Generic']\n",
        "# frame = {'Prediction': predictions, 'True Label': y_test}\n",
        "# result_df = pd.DataFrame(frame)\n",
        "# #result_df.index = index_\n",
        "# result_df.plot.bar(figsize=(5, 5), title=\"Percentage Of Attack Types\", grid=True)\n",
        "# #plt.savefig(path+'Result/percent-RF'+'.jpg')\n",
        "# plt.show()"
      ],
      "execution_count": null,
      "outputs": []
    },
    {
      "cell_type": "markdown",
      "metadata": {
        "id": "b2jBPrT4z9vA"
      },
      "source": [
        "Report"
      ]
    },
    {
      "cell_type": "code",
      "metadata": {
        "id": "cvPMeUVzz8d5",
        "colab": {
          "base_uri": "https://localhost:8080/"
        },
        "outputId": "c8f14b09-6475-44cc-c8f2-12799d7ab801"
      },
      "source": [
        "from sklearn.metrics import classification_report\n",
        "\n",
        "key_att_category = list(attack_category.keys())\n",
        "clf_report = classification_report(y_test, predictions, labels=key_att_category)\n",
        "print(clf_report)"
      ],
      "execution_count": null,
      "outputs": [
        {
          "output_type": "stream",
          "name": "stdout",
          "text": [
            "                precision    recall  f1-score   support\n",
            "\n",
            "        Normal       0.98      1.00      0.99    443604\n",
            "       Fuzzers       0.69      0.43      0.53      4801\n",
            "Reconnaissance       0.85      0.48      0.61      2766\n",
            "     Shellcode       0.83      0.59      0.69       279\n",
            "      Exploits       0.67      0.73      0.70      8907\n",
            "         Worms       0.67      0.09      0.15        46\n",
            "           DoS       0.51      0.08      0.13      3188\n",
            "      Backdoor       0.74      0.05      0.09       479\n",
            "      Analysis       0.80      0.10      0.18       539\n",
            "       Generic       0.99      0.98      0.99     43337\n",
            "\n",
            "      accuracy                           0.98    507946\n",
            "     macro avg       0.77      0.45      0.51    507946\n",
            "  weighted avg       0.97      0.98      0.97    507946\n",
            "\n"
          ]
        }
      ]
    },
    {
      "cell_type": "code",
      "metadata": {
        "colab": {
          "base_uri": "https://localhost:8080/"
        },
        "id": "4bwz3wf4K-CX",
        "outputId": "8ea3cc05-5e0d-49ec-a577-ae938ad18f03"
      },
      "source": [
        "key_att_category = list(attack_category.keys())\n",
        "print(key_att_category)"
      ],
      "execution_count": null,
      "outputs": [
        {
          "output_type": "stream",
          "name": "stdout",
          "text": [
            "['Normal', 'Fuzzers', 'Reconnaissance', 'Shellcode', 'Exploits', 'Worms', 'DoS', 'Backdoor', 'Analysis', 'Generic']\n"
          ]
        }
      ]
    },
    {
      "cell_type": "markdown",
      "metadata": {
        "id": "YJQlgvh20B08"
      },
      "source": [
        ""
      ]
    },
    {
      "cell_type": "markdown",
      "metadata": {
        "id": "2aO_hZpwKLzA"
      },
      "source": [
        "Vẽ Confusion Matrix"
      ]
    },
    {
      "cell_type": "code",
      "metadata": {
        "id": "GOkPOtFck9g_",
        "colab": {
          "base_uri": "https://localhost:8080/",
          "height": 692
        },
        "outputId": "37dd2420-4722-455e-9457-82bd2814e138"
      },
      "source": [
        "import sklearn\n",
        "from sklearn.ensemble import RandomForestClassifier\n",
        "from sklearn.naive_bayes import GaussianNB\n",
        "import numpy as np\n",
        "import pandas as pd\n",
        "from sklearn.metrics import accuracy_score\n",
        "from sklearn.tree import DecisionTreeClassifier\n",
        "from sklearn.metrics import confusion_matrix\n",
        "import joblib\n",
        "from sklearn import preprocessing\n",
        "from sklearn.pipeline import make_pipeline\n",
        "from sklearn.preprocessing import StandardScaler\n",
        "from sklearn.svm import SVC\n",
        "import re\n",
        "import csv\n",
        "import matplotlib.pyplot as plt \n",
        "import matplotlib.pyplot as plt\n",
        "from sklearn.metrics import plot_confusion_matrix\n",
        "from google.colab import drive\n",
        "drive.mount('/content/drive')\n",
        "\n",
        "fig, ax = plt.subplots(figsize=(15, 10))\n",
        "plt.title('Confusion Matrix')\n",
        "plot_confusion_matrix(clf, x_test, y_test, xticks_rotation=45,cmap=plt.cm.Blues,ax=ax,values_format = '')\n",
        "# plt.ylabel('True Label')\n",
        "# plt.xlabel('Predicted Label')\n",
        "\n",
        "#set label for x,y\n",
        "ax.set_xlabel('Predicted Label', fontsize='medium')\n",
        "ax.set_ylabel('True Label', fontsize='medium')\n",
        "#save figure\n",
        "plt.savefig('./drive/My Drive/LVan/DIoT/Reports/confusion_matrix-rf.jpg')\n",
        "plt.show()"
      ],
      "execution_count": null,
      "outputs": [
        {
          "output_type": "stream",
          "name": "stdout",
          "text": [
            "Drive already mounted at /content/drive; to attempt to forcibly remount, call drive.mount(\"/content/drive\", force_remount=True).\n"
          ]
        },
        {
          "output_type": "display_data",
          "data": {
            "image/png": "[encoded data removed]",
            "text/plain": [
              "<Figure size 1080x720 with 2 Axes>"
            ]
          },
          "metadata": {
            "needs_background": "light"
          }
        }
      ]
    }
  ]
}